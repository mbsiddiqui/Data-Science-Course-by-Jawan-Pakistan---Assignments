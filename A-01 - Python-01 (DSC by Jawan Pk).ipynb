{
 "cells": [
  {
   "cell_type": "code",
   "execution_count": 55,
   "metadata": {},
   "outputs": [
    {
     "name": "stdout",
     "output_type": "stream",
     "text": [
      "Task-01:\n",
      "Twinkle, twinkle, little star,\n",
      "\t How I wonder what you are!\n",
      "\t\tUp above the world so high,\n",
      "\t\tLike a diamond in the sky.\n",
      "Twinkle, twinkle, little star,\n",
      "\t How I wonder what you are!\n",
      "\n",
      "\n",
      "Task-02:\n",
      "Current Python version:3.7.4\n",
      "\n",
      "\n",
      "Task-03:\n",
      "Current Date & Time: 01-Jan-2022 22:06:17\n",
      "\n",
      "\n",
      "Task-04:\n",
      "Enter radius of circle: 3\n",
      "Area of circle with radius 3.00 is: 28.27\n",
      "\n",
      "\n",
      "Task-05:\n",
      "Enter your First name: 3\n",
      "Enter your Last name: 4\n",
      "Welcome to Python: 4 3\n",
      "\n",
      "\n",
      "Task-06:\n",
      "Enter first number: 3\n",
      "Enter second number: 4\n",
      "Sum of 3.00 & 4.00 is: 7.00\n"
     ]
    }
   ],
   "source": [
    "# Assignment-01 - Python-01 (DSC by Jawan Pk)\n",
    "#Task:01\n",
    "print(\"Task-01:\")\n",
    "print(\"Twinkle, twinkle, little star,\\n\\t How I wonder what you are!\\n\\t\\tUp above the world so high,\")\n",
    "print(\"\\t\\tLike a diamond in the sky.\\nTwinkle, twinkle, little star,\\n\\t How I wonder what you are!\")\n",
    "\n",
    "#Task-02\n",
    "from platform import python_version\n",
    "print(\"\\n\\nTask-02:\")\n",
    "print(\"Current Python version:\" + python_version())\n",
    "\n",
    "#Task-03\n",
    "from datetime import datetime\n",
    "print(\"\\n\\nTask-03:\")\n",
    "current_dateTime = datetime.now()\n",
    "current_dateTime = current_dateTime.strftime(\"%d-%b-%Y %H:%M:%S\")\n",
    "print(\"Current Date & Time: \" + current_dateTime)\n",
    "\n",
    "#Task-04\n",
    "print(\"\\n\\nTask-04:\")\n",
    "import math\n",
    "radius = float(input(\"Enter radius of circle: \"))\n",
    "circleArea = math.pi * pow(radius,2)\n",
    "print(\"Area of circle with radius %.2f\" %radius +\" is: %.2f\" %circleArea)\n",
    "\n",
    "#Task-05\n",
    "print(\"\\n\\nTask-05:\")\n",
    "firstName = input(\"Enter your First name: \")\n",
    "lastName = input(\"Enter your Last name: \")\n",
    "print(\"Welcome to Python: \" + lastName + \" \" + firstName)\n",
    "\n",
    "#Task-06\n",
    "print(\"\\n\\nTask-06:\")\n",
    "firstNum = float(input(\"Enter first number: \"))\n",
    "secondNum = float(input(\"Enter second number: \"))\n",
    "addition = firstNum + secondNum\n",
    "print(\"Sum of %.2f\" %firstNum + \" & %.2f\" %secondNum + \" is: %.2f\" %addition)"
   ]
  },
  {
   "cell_type": "code",
   "execution_count": null,
   "metadata": {},
   "outputs": [],
   "source": []
  }
 ],
 "metadata": {
  "kernelspec": {
   "display_name": "Python 3",
   "language": "python",
   "name": "python3"
  },
  "language_info": {
   "codemirror_mode": {
    "name": "ipython",
    "version": 3
   },
   "file_extension": ".py",
   "mimetype": "text/x-python",
   "name": "python",
   "nbconvert_exporter": "python",
   "pygments_lexer": "ipython3",
   "version": "3.7.4"
  }
 },
 "nbformat": 4,
 "nbformat_minor": 2
}
